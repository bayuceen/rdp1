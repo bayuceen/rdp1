{
  "nbformat": 4,
  "nbformat_minor": 0,
  "metadata": {
    "colab": {
      "provenance": [],
      "machine_shape": "hm",
      "include_colab_link": true
    },
    "kernelspec": {
      "display_name": "Python 3",
      "name": "python3"
    },
    "accelerator": "GPU"
  },
  "cells": [
    {
      "cell_type": "markdown",
      "metadata": {
        "id": "view-in-github",
        "colab_type": "text"
      },
      "source": [
        "<a href=\"https://colab.research.google.com/github/bayuceen/rdp1/blob/circleci-editor%2F246%2Fcircleci-project-setup/scratchpad.ipynb\" target=\"_parent\"><img src=\"https://colab.research.google.com/assets/colab-badge.svg\" alt=\"Open In Colab\"/></a>"
      ]
    },
    {
      "cell_type": "code",
      "metadata": {
        "id": "-f_b48MU0EFo",
        "outputId": "6e1957a8-301c-493b-ab0e-977600acaffd",
        "colab": {
          "base_uri": "https://localhost:8080/",
          "height": 71
        }
      },
      "source": [
        "!free -h"
      ],
      "execution_count": null,
      "outputs": [
        {
          "output_type": "stream",
          "text": [
            "              total        used        free      shared  buff/cache   available\n",
            "Mem:            25G        596M         22G        896K        2.2G         24G\n",
            "Swap:            0B          0B          0B\n"
          ],
          "name": "stdout"
        }
      ]
    },
    {
      "cell_type": "markdown",
      "metadata": {
        "id": "W3pD5oTG1BrY"
      },
      "source": [
        "# Available RAM by default"
      ]
    },
    {
      "cell_type": "markdown",
      "metadata": {
        "id": "PcLk22Kq0E8g"
      },
      "source": [
        "# Exhausting RAM\n",
        "### Eating memory using the script below"
      ]
    },
    {
      "cell_type": "code",
      "metadata": {
        "id": "lIYdn1woOS1n"
      },
      "source": [
        "mem = []\n",
        "while True:\n",
        "    mem.append(' ' * 10**6)"
      ],
      "execution_count": null,
      "outputs": []
    },
    {
      "cell_type": "markdown",
      "metadata": {
        "id": "K_uUIvfa2KHA"
      },
      "source": [
        "# Checking total RAM allocated and avialable *free*"
      ]
    },
    {
      "cell_type": "code",
      "metadata": {
        "id": "bVR098BUz2Dh"
      },
      "source": [
        "!free -h"
      ],
      "execution_count": null,
      "outputs": []
    },
    {
      "cell_type": "markdown",
      "metadata": {
        "id": "-lH0du3D3fHa"
      },
      "source": [
        "# Checking GPU allocated\n",
        "### Tesla P-100 (16GB)"
      ]
    },
    {
      "cell_type": "code",
      "metadata": {
        "id": "nhi0U9sB1puk"
      },
      "source": [
        "!nvidia-smi -L"
      ],
      "execution_count": null,
      "outputs": []
    },
    {
      "cell_type": "markdown",
      "metadata": {
        "id": "25w1Zvp83xHC"
      },
      "source": [
        "#Checking CPU type and processor"
      ]
    },
    {
      "cell_type": "code",
      "metadata": {
        "id": "9MmFal4w3i-D"
      },
      "source": [
        "!lscpu |grep 'Model name'"
      ],
      "execution_count": null,
      "outputs": []
    },
    {
      "cell_type": "markdown",
      "metadata": {
        "id": "fL1qC4xv4PzO"
      },
      "source": [
        "# No of cores each processor is having "
      ]
    },
    {
      "cell_type": "code",
      "metadata": {
        "id": "ZhYEZR9G37T4"
      },
      "source": [
        "!lscpu | grep 'Core(s) per socket:'"
      ],
      "execution_count": null,
      "outputs": []
    },
    {
      "cell_type": "markdown",
      "metadata": {
        "id": "Arwd-qIl4W7q"
      },
      "source": [
        "# No of threads each core is having\n"
      ]
    },
    {
      "cell_type": "code",
      "metadata": {
        "id": "pmPUwgFp4VM5"
      },
      "source": [
        "!lscpu | grep 'Thread(s) per core'"
      ],
      "execution_count": null,
      "outputs": []
    },
    {
      "cell_type": "markdown",
      "metadata": {
        "id": "QyRkDEGX4kyK"
      },
      "source": [
        "# Utility for monitoring & Managing Nvidia GPUs"
      ]
    },
    {
      "cell_type": "code",
      "metadata": {
        "id": "sHtJNj8u4atf"
      },
      "source": [
        "!nvidia-smi"
      ],
      "execution_count": null,
      "outputs": []
    },
    {
      "cell_type": "markdown",
      "metadata": {
        "id": "31a4hAIc0WRK"
      },
      "source": [
        "# For checking the CUDA Version"
      ]
    },
    {
      "cell_type": "code",
      "metadata": {
        "id": "lBT3T0044vPs"
      },
      "source": [
        "!nvcc--version"
      ],
      "execution_count": null,
      "outputs": []
    },
    {
      "cell_type": "markdown",
      "metadata": {
        "id": "jp12JEha1R5r"
      },
      "source": [
        "# Getting the detailed CPU information"
      ]
    },
    {
      "cell_type": "code",
      "metadata": {
        "id": "fyhKDvod2VSf"
      },
      "source": [
        "!cat /proc/cpuinfo"
      ],
      "execution_count": null,
      "outputs": []
    }
  ]
}